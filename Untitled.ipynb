{
 "cells": [
  {
   "cell_type": "code",
   "execution_count": 51,
   "id": "f7af56b7",
   "metadata": {},
   "outputs": [],
   "source": [
    "import numpy as np\n",
    "import scipy.stats as stats\n",
    "import matplotlib.pyplot as plt\n",
    "\n",
    "from scipy.stats import invgamma\n",
    "\n",
    "import time"
   ]
  },
  {
   "cell_type": "code",
   "execution_count": null,
   "id": "1a281eb9",
   "metadata": {},
   "outputs": [],
   "source": [
    "#estimer P(theta | D(X, theta)>= D(x, theta))"
   ]
  },
  {
   "cell_type": "code",
   "execution_count": null,
   "id": "389cb41f",
   "metadata": {},
   "outputs": [],
   "source": [
    "np.random.seed(42)"
   ]
  },
  {
   "cell_type": "code",
   "execution_count": 28,
   "id": "3b665714",
   "metadata": {},
   "outputs": [],
   "source": [
    "# Observed data\n",
    "true_theta = 5.0\n",
    "n = 1000\n",
    "y = np.random.exponential(scale=true_theta, size=n)\n",
    "mean_y = np.mean(y)"
   ]
  },
  {
   "cell_type": "code",
   "execution_count": 29,
   "id": "8bc869cf",
   "metadata": {},
   "outputs": [
    {
     "data": {
      "text/plain": [
       "4.862529739826122"
      ]
     },
     "execution_count": 29,
     "metadata": {},
     "output_type": "execute_result"
    }
   ],
   "source": [
    "mean_y"
   ]
  },
  {
   "cell_type": "code",
   "execution_count": 30,
   "id": "ac6269fd",
   "metadata": {},
   "outputs": [],
   "source": [
    "# Prior: theta ~ InvGamma(alpha, beta)\n",
    "alpha_prior = 2.0\n",
    "beta_prior = 1.0"
   ]
  },
  {
   "cell_type": "code",
   "execution_count": 52,
   "id": "2b6696fd",
   "metadata": {},
   "outputs": [
    {
     "name": "stdout",
     "output_type": "stream",
     "text": [
      "107.99459719657898\n",
      "16.38162088394165\n",
      "23.396785020828247\n",
      "23.056831121444702\n",
      "25.357595682144165\n"
     ]
    }
   ],
   "source": [
    "# ABC-SMC settings\n",
    "N = 10000\n",
    "epsilon_schedule = [2.0, 1.0, 0.5, 0.1, 0.0]\n",
    "# epsilon_schedule = [2.0, 1.5, 1.0, 0.75, 0.5, 0.25, 0.1, 0.05, 0.025, 0.0]\n",
    "T = len(epsilon_schedule)\n",
    "\n",
    "theta_min = 1e-3\n",
    "\n",
    "\n",
    "def discrepancy(x_mean, theta0, n):\n",
    "    return 2 * n * (-np.log(x_mean / theta0) - 1 + (x_mean / theta0))\n",
    "\n",
    "# Initialize\n",
    "prev_particles = None\n",
    "prev_weights = None\n",
    "final_particles = None\n",
    "final_weights = None\n",
    "\n",
    "for t in range(T):\n",
    "    \n",
    "    start=time.time()\n",
    "    \n",
    "    eps = epsilon_schedule[t]\n",
    "    curr_particles = np.empty(N)\n",
    "    curr_weights = np.full(N, 1.0 / N)  # Uniform initially\n",
    "    count = 0\n",
    "\n",
    "    while count < N:\n",
    "        # Sampling\n",
    "        if t == 0:\n",
    "            theta_star = 1/np.random.gamma(alpha_prior, scale = 1/beta_prior)\n",
    "        else:\n",
    "            idx = np.random.choice(N, p=prev_weights)\n",
    "            theta_star = np.random.normal(loc=prev_particles[idx], scale=0.5)\n",
    "\n",
    "        if theta_min > theta_star:\n",
    "            continue\n",
    "\n",
    "        # Simulate and compute discrepancy\n",
    "        x_star = np.random.exponential(scale=theta_star, size=n)\n",
    "        d_sim = discrepancy(np.mean(x_star), theta_star, n=n)\n",
    "        d_obs = discrepancy(mean_y, theta_star, n=n)\n",
    "\n",
    "        if d_sim >= d_obs - eps:\n",
    "            curr_particles[count] = theta_star\n",
    "            count += 1\n",
    "\n",
    "    # Weight update\n",
    "    if t > 0:\n",
    "        denom_matrix = stats.norm(loc=prev_particles[:, None], scale=0.5).pdf(curr_particles)\n",
    "        denom_weighted = prev_weights[:, None] * denom_matrix\n",
    "        denom = np.sum(denom_weighted, axis=0)\n",
    "\n",
    "        num = stats.invgamma(a=alpha_prior, scale=beta_prior).pdf(curr_particles)\n",
    "        curr_weights = num / denom\n",
    "        curr_weights /= np.sum(curr_weights)\n",
    "\n",
    "    # Update previous with current\n",
    "    prev_particles = curr_particles\n",
    "    prev_weights = curr_weights\n",
    "\n",
    "    # Store final results\n",
    "    if t == T - 1:\n",
    "        final_particles = curr_particles\n",
    "        final_weights = curr_weights\n",
    "        \n",
    "    end=time.time()\n",
    "    \n",
    "    print(end-start)\n",
    "\n"
   ]
  },
  {
   "cell_type": "code",
   "execution_count": 59,
   "id": "b6b07f8b",
   "metadata": {
    "scrolled": true
   },
   "outputs": [
    {
     "name": "stdout",
     "output_type": "stream",
     "text": [
      "6.522152423858643\n",
      "370\n",
      "5.886824131011963\n",
      "747\n",
      "5.862595081329346\n",
      "1100\n",
      "6.3951427936553955\n",
      "1406\n",
      "6.271782159805298\n",
      "1717\n",
      "6.2171471118927\n",
      "2069\n",
      "6.224143028259277\n",
      "2415\n",
      "6.28311824798584\n",
      "2782\n",
      "5.839252948760986\n",
      "3134\n",
      "5.8276166915893555\n",
      "3469\n",
      "5.879715919494629\n",
      "3835\n",
      "6.39049768447876\n",
      "4189\n",
      "6.056454181671143\n",
      "4545\n",
      "6.29911470413208\n",
      "4873\n",
      "5.774450302124023\n",
      "5226\n",
      "5.813441276550293\n",
      "5580\n",
      "5.881194353103638\n",
      "5904\n",
      "5.742733955383301\n",
      "6266\n",
      "5.935911655426025\n",
      "6592\n",
      "5.996167182922363\n",
      "6933\n",
      "5.771217346191406\n",
      "7282\n",
      "5.702468395233154\n",
      "7614\n",
      "5.5699074268341064\n",
      "7960\n",
      "5.831588506698608\n",
      "8305\n",
      "6.466497421264648\n",
      "8640\n",
      "6.190994501113892\n",
      "8974\n",
      "5.693154573440552\n",
      "9325\n",
      "5.755626440048218\n",
      "9667\n",
      "5.559882640838623\n",
      "9983\n",
      "5.760819435119629\n",
      "10339\n"
     ]
    }
   ],
   "source": [
    "def sample_prior_inverse_gamma(n):\n",
    "    return invgamma.rvs(a=alpha_prior, scale=beta_prior, size=n)\n",
    "\n",
    "# Simulate from model\n",
    "def simulate_data(lam, n):\n",
    "    return np.random.exponential(scale=lam, size=n)\n",
    "\n",
    "# Discrepancy: \n",
    "def likelihood_ratio_discrepancy(x_bar, lam, n):\n",
    "    return 2 * n * (-np.log(x_bar / lam) - 1 + (x_bar / lam))\n",
    "\n",
    "# ABC rejection\n",
    "def abc_rejection_inverse_gamma(n_samples=100000, n_obs=10):\n",
    "    lam_samples = sample_prior_inverse_gamma(n_samples)\n",
    "    X_sim = np.array([simulate_data(lam, n_obs) for lam in lam_samples])\n",
    "    x_bar_sim = X_sim.mean(axis=1)\n",
    "\n",
    "    D_sim = likelihood_ratio_discrepancy(x_bar_sim, lam_samples, n_obs)\n",
    "    D_obs = likelihood_ratio_discrepancy(mean_y, lam_samples, n_obs)\n",
    "\n",
    "    accept = D_sim >= D_obs\n",
    "    return lam_samples[accept]\n",
    "\n",
    "# Run ABC\n",
    "N=200000\n",
    "M=10000\n",
    "lambda_posterior_final=[]\n",
    "tpstot=0\n",
    "while len(lambda_posterior_final)<M:\n",
    "    start=time.time()\n",
    "    lambda_posterior = abc_rejection_inverse_gamma(n_samples=N, n_obs=n)\n",
    "    lambda_posterior_final+=list(lambda_posterior)\n",
    "    end=time.time()\n",
    "    print(end-start)\n",
    "    print(len(lambda_posterior_final))\n",
    "    tpstot+=(end-start)\n"
   ]
  },
  {
   "cell_type": "code",
   "execution_count": 60,
   "id": "f98d67aa",
   "metadata": {},
   "outputs": [
    {
     "name": "stdout",
     "output_type": "stream",
     "text": [
      "179.4016125202179\n"
     ]
    }
   ],
   "source": [
    "print(tpstot)"
   ]
  },
  {
   "cell_type": "code",
   "execution_count": 39,
   "id": "a71fb601",
   "metadata": {},
   "outputs": [],
   "source": [
    "min_theta=min(np.min(lambda_posterior_final), np.min(final_particles))\n",
    "max_theta=min(np.max(lambda_posterior_final), np.max(final_particles))\n",
    "max_l=max(len(lambda_posterior_final), len(final_particles))\n",
    "\n",
    "theta_vals = np.linspace(min_theta, max_theta, max_l)\n",
    "prior_pdf = invgamma.pdf(theta_vals, a=alpha_prior, scale=beta_prior)\n",
    "\n",
    "# Analytical posterior parameters\n",
    "alpha_post = alpha_prior + n\n",
    "beta_post = beta_prior + n*mean_y\n",
    "posterior_pdf = invgamma.pdf(theta_vals, a=alpha_post, scale=beta_post)"
   ]
  },
  {
   "cell_type": "code",
   "execution_count": 281,
   "id": "b1d56e09",
   "metadata": {},
   "outputs": [
    {
     "ename": "ValueError",
     "evalue": "weights should have the same shape as x",
     "output_type": "error",
     "traceback": [
      "\u001b[1;31m---------------------------------------------------------------------------\u001b[0m",
      "\u001b[1;31mValueError\u001b[0m                                Traceback (most recent call last)",
      "\u001b[1;32m~\\AppData\\Local\\Temp/ipykernel_55668/2632351655.py\u001b[0m in \u001b[0;36m<module>\u001b[1;34m\u001b[0m\n\u001b[0;32m      6\u001b[0m \u001b[1;33m\u001b[0m\u001b[0m\n\u001b[0;32m      7\u001b[0m \u001b[0mnb_bins\u001b[0m\u001b[1;33m=\u001b[0m\u001b[0mint\u001b[0m\u001b[1;33m(\u001b[0m\u001b[0mnp\u001b[0m\u001b[1;33m.\u001b[0m\u001b[0msqrt\u001b[0m\u001b[1;33m(\u001b[0m\u001b[0mlen\u001b[0m\u001b[1;33m(\u001b[0m\u001b[0mfinal_particles\u001b[0m\u001b[1;33m)\u001b[0m\u001b[1;33m)\u001b[0m\u001b[1;33m)\u001b[0m\u001b[1;33m\u001b[0m\u001b[1;33m\u001b[0m\u001b[0m\n\u001b[1;32m----> 8\u001b[1;33m \u001b[0mplt\u001b[0m\u001b[1;33m.\u001b[0m\u001b[0mhist\u001b[0m\u001b[1;33m(\u001b[0m\u001b[0mfinal_particles\u001b[0m\u001b[1;33m,\u001b[0m \u001b[0mbins\u001b[0m\u001b[1;33m=\u001b[0m\u001b[0mnb_bins\u001b[0m\u001b[1;33m,\u001b[0m \u001b[0mdensity\u001b[0m\u001b[1;33m=\u001b[0m\u001b[1;32mTrue\u001b[0m\u001b[1;33m,\u001b[0m\u001b[0malpha\u001b[0m\u001b[1;33m=\u001b[0m\u001b[1;36m0.3\u001b[0m\u001b[1;33m,\u001b[0m \u001b[0mcolor\u001b[0m\u001b[1;33m=\u001b[0m\u001b[1;34m'red'\u001b[0m\u001b[1;33m,\u001b[0m \u001b[0medgecolor\u001b[0m\u001b[1;33m=\u001b[0m\u001b[1;34m'k'\u001b[0m\u001b[1;33m,\u001b[0m \u001b[0mweights\u001b[0m\u001b[1;33m=\u001b[0m\u001b[0mfinal_weights\u001b[0m\u001b[1;33m)\u001b[0m\u001b[1;33m\u001b[0m\u001b[1;33m\u001b[0m\u001b[0m\n\u001b[0m\u001b[0;32m      9\u001b[0m \u001b[1;33m\u001b[0m\u001b[0m\n\u001b[0;32m     10\u001b[0m \u001b[1;31m# plt.plot(theta_vals, prior_pdf, color='red', lw=2, label='Analytical Posterior')\u001b[0m\u001b[1;33m\u001b[0m\u001b[1;33m\u001b[0m\u001b[0m\n",
      "\u001b[1;32m~\\anaconda3\\lib\\site-packages\\matplotlib\\pyplot.py\u001b[0m in \u001b[0;36mhist\u001b[1;34m(x, bins, range, density, weights, cumulative, bottom, histtype, align, orientation, rwidth, log, color, label, stacked, data, **kwargs)\u001b[0m\n\u001b[0;32m   2851\u001b[0m         \u001b[0morientation\u001b[0m\u001b[1;33m=\u001b[0m\u001b[1;34m'vertical'\u001b[0m\u001b[1;33m,\u001b[0m \u001b[0mrwidth\u001b[0m\u001b[1;33m=\u001b[0m\u001b[1;32mNone\u001b[0m\u001b[1;33m,\u001b[0m \u001b[0mlog\u001b[0m\u001b[1;33m=\u001b[0m\u001b[1;32mFalse\u001b[0m\u001b[1;33m,\u001b[0m \u001b[0mcolor\u001b[0m\u001b[1;33m=\u001b[0m\u001b[1;32mNone\u001b[0m\u001b[1;33m,\u001b[0m\u001b[1;33m\u001b[0m\u001b[1;33m\u001b[0m\u001b[0m\n\u001b[0;32m   2852\u001b[0m         label=None, stacked=False, *, data=None, **kwargs):\n\u001b[1;32m-> 2853\u001b[1;33m     return gca().hist(\n\u001b[0m\u001b[0;32m   2854\u001b[0m         \u001b[0mx\u001b[0m\u001b[1;33m,\u001b[0m \u001b[0mbins\u001b[0m\u001b[1;33m=\u001b[0m\u001b[0mbins\u001b[0m\u001b[1;33m,\u001b[0m \u001b[0mrange\u001b[0m\u001b[1;33m=\u001b[0m\u001b[0mrange\u001b[0m\u001b[1;33m,\u001b[0m \u001b[0mdensity\u001b[0m\u001b[1;33m=\u001b[0m\u001b[0mdensity\u001b[0m\u001b[1;33m,\u001b[0m \u001b[0mweights\u001b[0m\u001b[1;33m=\u001b[0m\u001b[0mweights\u001b[0m\u001b[1;33m,\u001b[0m\u001b[1;33m\u001b[0m\u001b[1;33m\u001b[0m\u001b[0m\n\u001b[0;32m   2855\u001b[0m         \u001b[0mcumulative\u001b[0m\u001b[1;33m=\u001b[0m\u001b[0mcumulative\u001b[0m\u001b[1;33m,\u001b[0m \u001b[0mbottom\u001b[0m\u001b[1;33m=\u001b[0m\u001b[0mbottom\u001b[0m\u001b[1;33m,\u001b[0m \u001b[0mhisttype\u001b[0m\u001b[1;33m=\u001b[0m\u001b[0mhisttype\u001b[0m\u001b[1;33m,\u001b[0m\u001b[1;33m\u001b[0m\u001b[1;33m\u001b[0m\u001b[0m\n",
      "\u001b[1;32m~\\anaconda3\\lib\\site-packages\\matplotlib\\__init__.py\u001b[0m in \u001b[0;36minner\u001b[1;34m(ax, data, *args, **kwargs)\u001b[0m\n\u001b[0;32m   1359\u001b[0m     \u001b[1;32mdef\u001b[0m \u001b[0minner\u001b[0m\u001b[1;33m(\u001b[0m\u001b[0max\u001b[0m\u001b[1;33m,\u001b[0m \u001b[1;33m*\u001b[0m\u001b[0margs\u001b[0m\u001b[1;33m,\u001b[0m \u001b[0mdata\u001b[0m\u001b[1;33m=\u001b[0m\u001b[1;32mNone\u001b[0m\u001b[1;33m,\u001b[0m \u001b[1;33m**\u001b[0m\u001b[0mkwargs\u001b[0m\u001b[1;33m)\u001b[0m\u001b[1;33m:\u001b[0m\u001b[1;33m\u001b[0m\u001b[1;33m\u001b[0m\u001b[0m\n\u001b[0;32m   1360\u001b[0m         \u001b[1;32mif\u001b[0m \u001b[0mdata\u001b[0m \u001b[1;32mis\u001b[0m \u001b[1;32mNone\u001b[0m\u001b[1;33m:\u001b[0m\u001b[1;33m\u001b[0m\u001b[1;33m\u001b[0m\u001b[0m\n\u001b[1;32m-> 1361\u001b[1;33m             \u001b[1;32mreturn\u001b[0m \u001b[0mfunc\u001b[0m\u001b[1;33m(\u001b[0m\u001b[0max\u001b[0m\u001b[1;33m,\u001b[0m \u001b[1;33m*\u001b[0m\u001b[0mmap\u001b[0m\u001b[1;33m(\u001b[0m\u001b[0msanitize_sequence\u001b[0m\u001b[1;33m,\u001b[0m \u001b[0margs\u001b[0m\u001b[1;33m)\u001b[0m\u001b[1;33m,\u001b[0m \u001b[1;33m**\u001b[0m\u001b[0mkwargs\u001b[0m\u001b[1;33m)\u001b[0m\u001b[1;33m\u001b[0m\u001b[1;33m\u001b[0m\u001b[0m\n\u001b[0m\u001b[0;32m   1362\u001b[0m \u001b[1;33m\u001b[0m\u001b[0m\n\u001b[0;32m   1363\u001b[0m         \u001b[0mbound\u001b[0m \u001b[1;33m=\u001b[0m \u001b[0mnew_sig\u001b[0m\u001b[1;33m.\u001b[0m\u001b[0mbind\u001b[0m\u001b[1;33m(\u001b[0m\u001b[0max\u001b[0m\u001b[1;33m,\u001b[0m \u001b[1;33m*\u001b[0m\u001b[0margs\u001b[0m\u001b[1;33m,\u001b[0m \u001b[1;33m**\u001b[0m\u001b[0mkwargs\u001b[0m\u001b[1;33m)\u001b[0m\u001b[1;33m\u001b[0m\u001b[1;33m\u001b[0m\u001b[0m\n",
      "\u001b[1;32m~\\anaconda3\\lib\\site-packages\\matplotlib\\axes\\_axes.py\u001b[0m in \u001b[0;36mhist\u001b[1;34m(self, x, bins, range, density, weights, cumulative, bottom, histtype, align, orientation, rwidth, log, color, label, stacked, **kwargs)\u001b[0m\n\u001b[0;32m   6704\u001b[0m             \u001b[0mlen_xi\u001b[0m \u001b[1;33m=\u001b[0m \u001b[0mlen\u001b[0m\u001b[1;33m(\u001b[0m\u001b[0mxi\u001b[0m\u001b[1;33m)\u001b[0m\u001b[1;33m\u001b[0m\u001b[1;33m\u001b[0m\u001b[0m\n\u001b[0;32m   6705\u001b[0m             \u001b[1;32mif\u001b[0m \u001b[0mwi\u001b[0m \u001b[1;32mis\u001b[0m \u001b[1;32mnot\u001b[0m \u001b[1;32mNone\u001b[0m \u001b[1;32mand\u001b[0m \u001b[0mlen\u001b[0m\u001b[1;33m(\u001b[0m\u001b[0mwi\u001b[0m\u001b[1;33m)\u001b[0m \u001b[1;33m!=\u001b[0m \u001b[0mlen_xi\u001b[0m\u001b[1;33m:\u001b[0m\u001b[1;33m\u001b[0m\u001b[1;33m\u001b[0m\u001b[0m\n\u001b[1;32m-> 6706\u001b[1;33m                 \u001b[1;32mraise\u001b[0m \u001b[0mValueError\u001b[0m\u001b[1;33m(\u001b[0m\u001b[1;34m'weights should have the same shape as x'\u001b[0m\u001b[1;33m)\u001b[0m\u001b[1;33m\u001b[0m\u001b[1;33m\u001b[0m\u001b[0m\n\u001b[0m\u001b[0;32m   6707\u001b[0m             \u001b[1;32mif\u001b[0m \u001b[0mlen_xi\u001b[0m\u001b[1;33m:\u001b[0m\u001b[1;33m\u001b[0m\u001b[1;33m\u001b[0m\u001b[0m\n\u001b[0;32m   6708\u001b[0m                 \u001b[0minput_empty\u001b[0m \u001b[1;33m=\u001b[0m \u001b[1;32mFalse\u001b[0m\u001b[1;33m\u001b[0m\u001b[1;33m\u001b[0m\u001b[0m\n",
      "\u001b[1;31mValueError\u001b[0m: weights should have the same shape as x"
     ]
    },
    {
     "data": {
      "image/png": "[encoded data removed]",
      "text/plain": [
       "<Figure size 720x432 with 1 Axes>"
      ]
     },
     "metadata": {
      "needs_background": "light"
     },
     "output_type": "display_data"
    }
   ],
   "source": [
    "# Plot posterior\n",
    "plt.figure(figsize=(10, 6))\n",
    "\n",
    "nb_bins=int(np.sqrt(len(lambda_posterior_final)))\n",
    "plt.hist(lambda_posterior_final, bins=nb_bins, density=True,alpha=0.3, color='skyblue', edgecolor='k')\n",
    "\n",
    "nb_bins=int(np.sqrt(len(final_particles)))\n",
    "plt.hist(final_particles, bins=nb_bins, density=True,alpha=0.3, color='red', edgecolor='k', weights=final_weights)\n",
    "\n",
    "# plt.plot(theta_vals, prior_pdf, color='red', lw=2, label='Analytical Posterior')\n",
    "plt.plot(theta_vals, posterior_pdf, color='green', lw=2, label='Analytical Posterior')\n",
    "\n",
    "plt.axvline(x=np.mean(x_obs), color='red', linestyle='--', label=r'MLE $\\hat{\\lambda} = \\bar{x}$')\n",
    "plt.title(fr'ABC Posterior for $\\lambda$ (Inverse Gamma Prior, $n={n_obs}$)')\n",
    "plt.xlabel(r'$\\lambda$ (scale parameter)')\n",
    "plt.ylabel('Density')\n",
    "plt.xlim([4,7])\n",
    "plt.legend()\n",
    "plt.grid(True)\n",
    "plt.tight_layout()\n",
    "plt.show()"
   ]
  },
  {
   "cell_type": "code",
   "execution_count": 62,
   "id": "6815352e",
   "metadata": {},
   "outputs": [
    {
     "name": "stdout",
     "output_type": "stream",
     "text": [
      "95% Credible Interval (weighted): [4.618, 5.113]\n",
      "95% Credible Interval (weighted): [4.611, 5.128]\n"
     ]
    }
   ],
   "source": [
    "def weighted_quantile(values, quantiles, sample_weight):\n",
    "    \"\"\"\n",
    "    Compute weighted quantiles. quantiles should be in [0, 1].\n",
    "    \"\"\"\n",
    "    sorter = np.argsort(values)\n",
    "    values = values[sorter]\n",
    "    sample_weight = sample_weight[sorter]\n",
    "    cumulative_weight = np.cumsum(sample_weight)\n",
    "    cumulative_weight /= cumulative_weight[-1]\n",
    "    return np.interp(quantiles, cumulative_weight, values)\n",
    "\n",
    "# Compute 95% credible interval using weighted percentiles\n",
    "credible_interval = weighted_quantile(final_particles, [0.025, 0.975], final_weights)\n",
    "print(\"95% Credible Interval (weighted): [{:.3f}, {:.3f}]\".format(*credible_interval))\n",
    "\n",
    "# Compute 95% credible interval using \n",
    "print(\"95% Credible Interval (weighted): [{:.3f}, {:.3f}]\".format(*(np.quantile(lambda_posterior_final, 0.025), np.quantile(lambda_posterior_final, 0.975))))"
   ]
  },
  {
   "cell_type": "code",
   "execution_count": 49,
   "id": "966b7b31",
   "metadata": {},
   "outputs": [
    {
     "name": "stdout",
     "output_type": "stream",
     "text": [
      "95% credible interval for θ: (4.567, 5.169)\n"
     ]
    }
   ],
   "source": [
    "credible_interval = invgamma.interval(0.95, a=alpha_post, scale=beta_post)\n",
    "print(f\"95% credible interval for θ: ({credible_interval[0]:.3f}, {credible_interval[1]:.3f})\")\n"
   ]
  },
  {
   "cell_type": "code",
   "execution_count": 50,
   "id": "ec24a58e",
   "metadata": {},
   "outputs": [
    {
     "name": "stdout",
     "output_type": "stream",
     "text": [
      "95% confidence interval for θ: (4.575, 5.179)\n"
     ]
    }
   ],
   "source": [
    "from scipy.stats import chi2\n",
    "\n",
    "# Degrees of freedom\n",
    "df = 2 * n\n",
    "\n",
    "# Chi-squared quantiles\n",
    "chi2_lower = chi2.ppf(0.025, df)\n",
    "chi2_upper = chi2.ppf(0.975, df)\n",
    "\n",
    "# Confidence interval for theta\n",
    "lower_conf = (2 * n * mean_y) / chi2_upper\n",
    "upper_conf = (2 * n * mean_y) / chi2_lower\n",
    "\n",
    "print(f\"95% confidence interval for θ: ({lower_conf:.3f}, {upper_conf:.3f})\")\n"
   ]
  },
  {
   "cell_type": "code",
   "execution_count": null,
   "id": "56057493",
   "metadata": {},
   "outputs": [],
   "source": []
  },
  {
   "cell_type": "code",
   "execution_count": null,
   "id": "8a28ad13",
   "metadata": {},
   "outputs": [],
   "source": []
  },
  {
   "cell_type": "code",
   "execution_count": null,
   "id": "10239011",
   "metadata": {},
   "outputs": [],
   "source": []
  },
  {
   "cell_type": "code",
   "execution_count": null,
   "id": "342a204f",
   "metadata": {},
   "outputs": [],
   "source": []
  },
  {
   "cell_type": "code",
   "execution_count": null,
   "id": "f2276549",
   "metadata": {},
   "outputs": [],
   "source": []
  },
  {
   "cell_type": "code",
   "execution_count": 123,
   "id": "cd96c36a",
   "metadata": {},
   "outputs": [],
   "source": [
    "import numpy as np\n",
    "import scipy.stats as stats\n",
    "import matplotlib.pyplot as plt\n",
    "\n",
    "from scipy.stats import invgamma\n",
    "\n",
    "import time"
   ]
  },
  {
   "cell_type": "code",
   "execution_count": 282,
   "id": "f12c8041",
   "metadata": {},
   "outputs": [],
   "source": [
    "np.random.seed(42)"
   ]
  },
  {
   "cell_type": "code",
   "execution_count": 303,
   "id": "5d66744d",
   "metadata": {},
   "outputs": [],
   "source": [
    "# Observed data\n",
    "true_theta = 5.0\n",
    "n = 1000\n",
    "y = np.random.exponential(scale=true_theta, size=n)\n",
    "mean_y = np.mean(y)"
   ]
  },
  {
   "cell_type": "code",
   "execution_count": 304,
   "id": "370be859",
   "metadata": {},
   "outputs": [],
   "source": [
    "# Prior: theta ~ InvGamma(alpha, beta)\n",
    "alpha_prior = 2.0\n",
    "beta_prior = 1.0"
   ]
  },
  {
   "cell_type": "code",
   "execution_count": 305,
   "id": "660ab4fc",
   "metadata": {},
   "outputs": [],
   "source": [
    "#AJOUTER DE QUOI CONTRER OVER STRATIFICATION ET UNDER SAMPLING\n",
    "\n",
    "\n",
    "K = 10\n",
    "max_refinements = 3\n",
    "refine_top_fraction = 0.2  \n",
    "group_bottom_fraction=0.3\n",
    "target_accepted = 20000\n",
    "samples_per_stratum = 1000          # Samples per stratum\n",
    "\n",
    "\n",
    "# === USER-DEFINED FUNCTIONS ===\n",
    "\n",
    "def discrepancy(theta, x_bar):\n",
    "    return 2 * n * (-np.log(x_bar / theta) - 1 + (x_bar / theta))\n",
    "\n",
    "def simulate_data(theta_array):\n",
    "    size = (len(theta_array), n)  \n",
    "    return np.random.exponential(scale=theta_array[:, None], size=size)\n",
    "\n",
    "def compute_weights(theta_samples, stratum_widths, mask):\n",
    "    prior_density = invgamma.pdf(theta_samples, a=alpha, scale=beta)\n",
    "    proposal_density = 1.0 / stratum_widths\n",
    "    weights = np.where(mask, prior_density / proposal_density, 0.0)\n",
    "    weights /= np.sum(weights)\n",
    "    return weights\n",
    "\n",
    "def stratify(q, sample_allocation):\n",
    "    # Uniform sampling within each stratum\n",
    "    theta_samples = np.concatenate([\n",
    "        np.random.uniform(low=q[k], high=q[k + 1], size=sample_allocation[k])\n",
    "        for k in range(len(q)-1)\n",
    "    ])\n",
    "\n",
    "    # Compute stratum widths for each sample\n",
    "    stratum_widths = np.concatenate([\n",
    "        np.full(sample_allocation[k], q[k + 1] - q[k])\n",
    "        for k in range(len(q)-1)\n",
    "    ])\n",
    "    \n",
    "    return theta_samples, stratum_widths\n",
    "\n",
    "\n",
    "# === STRATIFICATION ===\n",
    "\n",
    "# Compute quantile boundaries for K strata\n",
    "\n",
    "q = invgamma.ppf(np.linspace(0, 0.999, K + 1), a=alpha, scale=beta)\n",
    "accepted_samples = []\n",
    "accepted_weights = []\n",
    "refine_round=0\n",
    "\n",
    "\n",
    "while len(accepted_samples) < target_accepted :\n",
    "    sample_allocation = [samples_per_stratum] * (len(q) - 1)\n",
    "    theta_samples, stratum_widths = stratify(q, sample_allocation)\n",
    "    \n",
    "    D_obs = discrepancy(theta_samples, mean_y)\n",
    "\n",
    "    # Simulate synthetic data and compute discrepancies\n",
    "    X_sim = simulate_data(theta_samples)\n",
    "    x_bar_sim = X_sim.mean(axis=1)\n",
    "    D_sim = discrepancy(theta_samples, x_bar_sim)\n",
    "    # ABC condition\n",
    "    mask = D_sim >= D_obs\n",
    "\n",
    "    weights = compute_weights(theta_samples, stratum_widths, mask)\n",
    "    \n",
    "    accepted_samples.extend(theta_samples[mask].tolist())\n",
    "    accepted_weights.extend(weights[mask].tolist())\n",
    "\n",
    "      \n",
    "    if refine_round <=max_refinements :\n",
    "        stratum_post_weights = []\n",
    "        index = 0\n",
    "        for k in range(len(q)-1):\n",
    "            local_mask = mask[index:index + samples_per_stratum]\n",
    "            local_theta = theta_samples[index:index + samples_per_stratum]\n",
    "            local_w = weights[index:index + samples_per_stratum]\n",
    "            stratum_post_weights.append(np.sum(local_w[local_mask]))\n",
    "            index += samples_per_stratum\n",
    "\n",
    "        stratum_post_weights = np.array(stratum_post_weights)\n",
    "        total_weight = np.sum(stratum_post_weights)\n",
    "        if total_weight == 0:\n",
    "            break  # avoid division by zero\n",
    "\n",
    "        stratum_post_weights /= total_weight\n",
    "        \n",
    "        \n",
    "        #REMPLACER PAR ALLOCATION DE NEYMAN\n",
    "        total_samples = samples_per_stratum * len(stratum_post_weights)\n",
    "        sample_allocation = np.ceil(stratum_post_weights * total_samples).astype(int)\n",
    "        \n",
    "\n",
    "        top_k = int(np.ceil(len(q) * refine_top_fraction))\n",
    "        bottom_k = int(np.floor(len(q) * group_bottom_fraction))\n",
    "        \n",
    "        top_indices = np.argsort(stratum_post_weights)[-top_k:]\n",
    "        bottom_indices = np.argsort(stratum_post_weights)[:bottom_k]\n",
    "        refine_indices = np.argsort(stratum_post_weights)[-top_k:]\n",
    "\n",
    "        \n",
    "        new_q_bounds = [q[0]]\n",
    "        i = 0\n",
    "        while i < len(q) - 1:\n",
    "            if i in top_indices:\n",
    "                # Refine (split into two)\n",
    "                q0, q1 = q[i], q[i + 1]\n",
    "                mid = (q0 + q1) / 2\n",
    "                new_q_bounds.extend([mid, q1])\n",
    "                i += 1\n",
    "            elif i in bottom_indices and i + 1 < len(q) - 1:\n",
    "                # Merge current and next\n",
    "                q0 = q[i]\n",
    "                q2 = q[i + 2]\n",
    "                new_q_bounds.append(q2)\n",
    "                i += 2\n",
    "            else:\n",
    "                # Keep as is\n",
    "                new_q_bounds.append(q[i + 1])\n",
    "                i += 1\n",
    "        \n",
    "        q = new_q_bounds\n",
    "        refine_round+=1\n",
    "    \n",
    "\n",
    "# === POSTERIOR ESTIMATION ===\n",
    "\n",
    "accepted_samples = np.array(accepted_samples)\n",
    "accepted_weights = np.array(accepted_weights)\n",
    "accepted_weights /= np.sum(accepted_weights)"
   ]
  },
  {
   "cell_type": "code",
   "execution_count": 306,
   "id": "41661b48",
   "metadata": {},
   "outputs": [
    {
     "data": {
      "text/plain": [
       "0.42195603373065005"
      ]
     },
     "execution_count": 306,
     "metadata": {},
     "output_type": "execute_result"
    }
   ],
   "source": [
    "ESS=np.sum(accepted_weights)**2 / np.sum(accepted_weights**2)\n",
    "ESS/accepted_weights.size"
   ]
  },
  {
   "cell_type": "code",
   "execution_count": 309,
   "id": "6a1a12a2",
   "metadata": {},
   "outputs": [
    {
     "data": {
      "image/png": "[encoded data removed]",
      "text/plain": [
       "<Figure size 720x432 with 1 Axes>"
      ]
     },
     "metadata": {
      "needs_background": "light"
     },
     "output_type": "display_data"
    }
   ],
   "source": [
    "# === PLOT ===\n",
    "plt.figure(figsize=(10, 6))\n",
    "nbr_bins=int(np.sqrt(accepted_weights.size))\n",
    "plt.hist(accepted_samples, bins=nbr_bins, weights=accepted_weights, density=True, alpha=0.7, label=\"Approx. Posterior\")\n",
    "plt.xlabel(\"θ\")\n",
    "plt.ylabel(\"Density\")\n",
    "plt.title(\"Locally Stratified Posterior Approximation\")\n",
    "plt.legend()\n",
    "plt.xlim([4,7])\n",
    "plt.grid(True)\n",
    "plt.tight_layout()\n",
    "plt.show()"
   ]
  },
  {
   "cell_type": "code",
   "execution_count": 310,
   "id": "4bb296d6",
   "metadata": {},
   "outputs": [
    {
     "data": {
      "image/png": "[encoded data removed]",
      "text/plain": [
       "<Figure size 432x288 with 1 Axes>"
      ]
     },
     "metadata": {
      "needs_background": "light"
     },
     "output_type": "display_data"
    }
   ],
   "source": [
    "from scipy.stats import gaussian_kde\n",
    "\n",
    "kde = gaussian_kde(accepted_samples, weights=accepted_weights)\n",
    "x = np.linspace(min(accepted_samples), max(accepted_samples), 500)\n",
    "plt.plot(x, kde(x), label=\"Approx. Posterior (KDE)\", color='blue')\n",
    "plt.show()"
   ]
  },
  {
   "cell_type": "code",
   "execution_count": 311,
   "id": "50e81fc7",
   "metadata": {},
   "outputs": [
    {
     "name": "stdout",
     "output_type": "stream",
     "text": [
      "95% Credible Interval (weighted): [4.565, 6.372]\n"
     ]
    }
   ],
   "source": [
    "def weighted_quantile(values, quantiles, sample_weight):\n",
    "    \"\"\"\n",
    "    Compute weighted quantiles. quantiles should be in [0, 1].\n",
    "    \"\"\"\n",
    "    sorter = np.argsort(values)\n",
    "    values = values[sorter]\n",
    "    sample_weight = sample_weight[sorter]\n",
    "    cumulative_weight = np.cumsum(sample_weight)\n",
    "    cumulative_weight /= cumulative_weight[-1]\n",
    "    return np.interp(quantiles, cumulative_weight, values)\n",
    "\n",
    "# Compute 95% credible interval using weighted percentiles\n",
    "credible_interval = weighted_quantile(accepted_samples, [0.025, 0.975], accepted_weights)\n",
    "print(\"95% Credible Interval (weighted): [{:.3f}, {:.3f}]\".format(*credible_interval))\n"
   ]
  },
  {
   "cell_type": "code",
   "execution_count": null,
   "id": "55d3ade4",
   "metadata": {},
   "outputs": [],
   "source": []
  },
  {
   "cell_type": "code",
   "execution_count": null,
   "id": "c7e1a662",
   "metadata": {},
   "outputs": [],
   "source": []
  },
  {
   "cell_type": "code",
   "execution_count": null,
   "id": "139aa111",
   "metadata": {},
   "outputs": [],
   "source": []
  },
  {
   "cell_type": "code",
   "execution_count": null,
   "id": "1db39534",
   "metadata": {},
   "outputs": [],
   "source": []
  },
  {
   "cell_type": "code",
   "execution_count": 312,
   "id": "5f7f57fd",
   "metadata": {},
   "outputs": [],
   "source": [
    "#Estimer p value"
   ]
  },
  {
   "cell_type": "code",
   "execution_count": null,
   "id": "c8504dab",
   "metadata": {},
   "outputs": [],
   "source": []
  },
  {
   "cell_type": "code",
   "execution_count": null,
   "id": "9438010d",
   "metadata": {},
   "outputs": [],
   "source": []
  },
  {
   "cell_type": "code",
   "execution_count": null,
   "id": "ac16807a",
   "metadata": {},
   "outputs": [],
   "source": []
  },
  {
   "cell_type": "code",
   "execution_count": null,
   "id": "04267a58",
   "metadata": {},
   "outputs": [],
   "source": []
  }
 ],
 "metadata": {
  "kernelspec": {
   "display_name": "Python 3 (ipykernel)",
   "language": "python",
   "name": "python3"
  },
  "language_info": {
   "codemirror_mode": {
    "name": "ipython",
    "version": 3
   },
   "file_extension": ".py",
   "mimetype": "text/x-python",
   "name": "python",
   "nbconvert_exporter": "python",
   "pygments_lexer": "ipython3",
   "version": "3.9.7"
  }
 },
 "nbformat": 4,
 "nbformat_minor": 5
}
